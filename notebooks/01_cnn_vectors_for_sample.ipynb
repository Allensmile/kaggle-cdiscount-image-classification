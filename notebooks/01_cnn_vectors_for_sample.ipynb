{
 "cells": [
  {
   "cell_type": "markdown",
   "metadata": {},
   "source": [
    "# Imports"
   ]
  },
  {
   "cell_type": "code",
   "execution_count": 1,
   "metadata": {},
   "outputs": [
    {
     "name": "stderr",
     "output_type": "stream",
     "text": [
      "Using Theano backend.\n",
      "WARNING (theano.sandbox.cuda): The cuda backend is deprecated and will be removed in the next release (v0.10).  Please switch to the gpuarray backend. You can get more information about how to switch at this URL:\n",
      " https://github.com/Theano/Theano/wiki/Converting-to-the-new-gpu-back-end%28gpuarray%29\n",
      "\n",
      "Using gpu device 0: GeForce GTX 1050 Ti (CNMeM is disabled, cuDNN 5103)\n"
     ]
    }
   ],
   "source": [
    "import numpy as np\n",
    "import pandas as pd\n",
    "import io\n",
    "import bson                 \n",
    "import matplotlib.pyplot as plt\n",
    "import multiprocessing as mp \n",
    "from PIL import Image\n",
    "from time import time\n",
    "import math\n",
    "from keras.applications.vgg16 import VGG16\n",
    "from keras.applications.vgg16 import preprocess_input\n",
    "from keras.applications.resnet50 import ResNet50\n",
    "import bcolz\n",
    "from keras.preprocessing.image import ImageDataGenerator\n",
    "from keras.models import Model\n",
    "from keras.layers import AveragePooling2D\n",
    "import keras"
   ]
  },
  {
   "cell_type": "markdown",
   "metadata": {},
   "source": [
    "# Observations"
   ]
  },
  {
   "cell_type": "markdown",
   "metadata": {},
   "source": [
    "Forum:\n",
    "1. All images are 180 - 180\n",
    "2. One guy got 68% by finetuning for 6 epochs resnet50 (only last conv block is trainable)\n",
    "3. Same guy as above said that random cropping images from 180 180 to 160 160 and averaging got him 68% instead of 6435\n",
    "\n",
    "Notebook: https://www.kaggle.com/bguberfain/naive-statistics\n",
    "1. there more products with one image then with more pictures combined\n",
    "2. There around 1m pictures with 4 and 2 images, and only half million with 3 images\n",
    "3. Some level3 categories have only 12 examples (but not less)\n",
    "4. Cummulative counts of categories descending by number of products \n",
    "\n",
    "\n",
    "* 0.20\t26\n",
    "* 0.40\t80\n",
    "* 0.60\t221\n",
    "* 0.80\t688\n",
    "* 0.90\t1334\n",
    "* 0.95\t2073\n",
    "* 0.98\t3040\n",
    "* 0.99\t3663\n",
    "* 1.00\t5270\n",
    "\n",
    "Notebook: https://www.kaggle.com/vfdev5/data-visualization-and-analysis\n",
    "1. From the look of rare categories it will be impossible to predict them by 12 images only\n",
    "2. Only 175 categories have more then 8000 products\n",
    "3. Around 1000 categories have more then 1000 products\n",
    "4. Around 2000 categories have more then 200 products\n",
    "5. Around 2000 categories seem to have less then 100 products"
   ]
  },
  {
   "cell_type": "markdown",
   "metadata": {},
   "source": [
    "# Read sample"
   ]
  },
  {
   "cell_type": "code",
   "execution_count": 2,
   "metadata": {},
   "outputs": [],
   "source": [
    "data = bson.decode_file_iter(open('../data/raw/train_example.bson', 'rb'))\n",
    "\n",
    "prod_to_category = dict()\n",
    "imgs = []\n",
    "\n",
    "for c, d in enumerate(data):\n",
    "    product_id = d['_id']\n",
    "    category_id = d['category_id'] # This won't be in Test data\n",
    "    prod_to_category[product_id] = category_id\n",
    "    for e, pic in enumerate(d['imgs']):\n",
    "        img = Image.open(io.BytesIO(pic['picture']))\n",
    "        img.save('../data/interim/train_example/imgs/{}.jpg'.format(product_id))\n",
    "        imgs.append(img)\n",
    "        \n",
    "prod_to_category = pd.DataFrame.from_dict(prod_to_category, orient='index')\n",
    "prod_to_category.index.name = '_id'\n",
    "prod_to_category.rename(columns={0: 'category_id'}, inplace=True)"
   ]
  },
  {
   "cell_type": "code",
   "execution_count": 3,
   "metadata": {},
   "outputs": [
    {
     "data": {
      "text/html": [
       "<div>\n",
       "<style>\n",
       "    .dataframe thead tr:only-child th {\n",
       "        text-align: right;\n",
       "    }\n",
       "\n",
       "    .dataframe thead th {\n",
       "        text-align: left;\n",
       "    }\n",
       "\n",
       "    .dataframe tbody tr th {\n",
       "        vertical-align: top;\n",
       "    }\n",
       "</style>\n",
       "<table border=\"1\" class=\"dataframe\">\n",
       "  <thead>\n",
       "    <tr style=\"text-align: right;\">\n",
       "      <th></th>\n",
       "      <th>category_id</th>\n",
       "    </tr>\n",
       "    <tr>\n",
       "      <th>_id</th>\n",
       "      <th></th>\n",
       "    </tr>\n",
       "  </thead>\n",
       "  <tbody>\n",
       "    <tr>\n",
       "      <th>0</th>\n",
       "      <td>1000010653</td>\n",
       "    </tr>\n",
       "    <tr>\n",
       "      <th>1</th>\n",
       "      <td>1000010653</td>\n",
       "    </tr>\n",
       "    <tr>\n",
       "      <th>2</th>\n",
       "      <td>1000004079</td>\n",
       "    </tr>\n",
       "    <tr>\n",
       "      <th>3</th>\n",
       "      <td>1000004141</td>\n",
       "    </tr>\n",
       "    <tr>\n",
       "      <th>4</th>\n",
       "      <td>1000015539</td>\n",
       "    </tr>\n",
       "  </tbody>\n",
       "</table>\n",
       "</div>"
      ],
      "text/plain": [
       "     category_id\n",
       "_id             \n",
       "0     1000010653\n",
       "1     1000010653\n",
       "2     1000004079\n",
       "3     1000004141\n",
       "4     1000015539"
      ]
     },
     "execution_count": 3,
     "metadata": {},
     "output_type": "execute_result"
    }
   ],
   "source": [
    "prod_to_category[:5]"
   ]
  },
  {
   "cell_type": "code",
   "execution_count": 4,
   "metadata": {},
   "outputs": [
    {
     "data": {
      "text/plain": [
       "{360}"
      ]
     },
     "execution_count": 4,
     "metadata": {},
     "output_type": "execute_result"
    }
   ],
   "source": [
    "{img.size[0] + img.size[1] for img in imgs}"
   ]
  },
  {
   "cell_type": "code",
   "execution_count": 5,
   "metadata": {},
   "outputs": [
    {
     "data": {
      "image/png": "[encoded data removed]",
      "text/plain": [
       "<PIL.JpegImagePlugin.JpegImageFile image mode=RGB size=180x180 at 0x7F1235F4E438>"
      ]
     },
     "execution_count": 5,
     "metadata": {},
     "output_type": "execute_result"
    }
   ],
   "source": [
    "imgs[10]"
   ]
  },
  {
   "cell_type": "markdown",
   "metadata": {},
   "source": [
    "# Counting categories"
   ]
  },
  {
   "cell_type": "markdown",
   "metadata": {},
   "source": [
    "## Assumble product to category map"
   ]
  },
  {
   "cell_type": "code",
   "execution_count": 63,
   "metadata": {},
   "outputs": [
    {
     "name": "stdout",
     "output_type": "stream",
     "text": [
      "8 - Read 100000 entries\n",
      "16 - Read 200000 entries\n",
      "24 - Read 300000 entries\n",
      "32 - Read 400000 entries\n",
      "40 - Read 500000 entries\n",
      "49 - Read 600000 entries\n",
      "57 - Read 700000 entries\n",
      "66 - Read 800000 entries\n",
      "75 - Read 900000 entries\n",
      "83 - Read 1000000 entries\n",
      "92 - Read 1100000 entries\n",
      "100 - Read 1200000 entries\n",
      "109 - Read 1300000 entries\n",
      "117 - Read 1400000 entries\n",
      "126 - Read 1500000 entries\n",
      "135 - Read 1600000 entries\n",
      "143 - Read 1700000 entries\n",
      "152 - Read 1800000 entries\n",
      "160 - Read 1900000 entries\n",
      "169 - Read 2000000 entries\n",
      "177 - Read 2100000 entries\n",
      "186 - Read 2200000 entries\n",
      "195 - Read 2300000 entries\n",
      "203 - Read 2400000 entries\n",
      "212 - Read 2500000 entries\n",
      "221 - Read 2600000 entries\n",
      "229 - Read 2700000 entries\n",
      "238 - Read 2800000 entries\n",
      "246 - Read 2900000 entries\n",
      "255 - Read 3000000 entries\n",
      "264 - Read 3100000 entries\n",
      "272 - Read 3200000 entries\n",
      "281 - Read 3300000 entries\n",
      "289 - Read 3400000 entries\n",
      "298 - Read 3500000 entries\n",
      "307 - Read 3600000 entries\n",
      "315 - Read 3700000 entries\n",
      "324 - Read 3800000 entries\n",
      "332 - Read 3900000 entries\n",
      "341 - Read 4000000 entries\n",
      "349 - Read 4100000 entries\n",
      "358 - Read 4200000 entries\n",
      "367 - Read 4300000 entries\n",
      "375 - Read 4400000 entries\n",
      "384 - Read 4500000 entries\n",
      "392 - Read 4600000 entries\n",
      "401 - Read 4700000 entries\n",
      "409 - Read 4800000 entries\n",
      "418 - Read 4900000 entries\n",
      "427 - Read 5000000 entries\n",
      "435 - Read 5100000 entries\n",
      "444 - Read 5200000 entries\n",
      "452 - Read 5300000 entries\n",
      "461 - Read 5400000 entries\n",
      "470 - Read 5500000 entries\n",
      "478 - Read 5600000 entries\n",
      "487 - Read 5700000 entries\n",
      "495 - Read 5800000 entries\n",
      "504 - Read 5900000 entries\n",
      "513 - Read 6000000 entries\n",
      "521 - Read 6100000 entries\n",
      "530 - Read 6200000 entries\n",
      "538 - Read 6300000 entries\n",
      "547 - Read 6400000 entries\n",
      "555 - Read 6500000 entries\n",
      "564 - Read 6600000 entries\n",
      "573 - Read 6700000 entries\n",
      "581 - Read 6800000 entries\n",
      "590 - Read 6900000 entries\n",
      "598 - Read 7000000 entries\n",
      "I'm here 1\n",
      "I'm here 2\n",
      "I'm here 3\n",
      "I'm here 4\n",
      "I'm here 5\n"
     ]
    }
   ],
   "source": [
    "NCORE =  4\n",
    "\n",
    "prod_to_category = mp.Manager().dict() # note the difference\n",
    "\n",
    "def process(q, iolock):\n",
    "    while True:\n",
    "        d = q.get()\n",
    "        if d is None:\n",
    "            break\n",
    "        product_id = d['_id']\n",
    "        category_id = d['category_id']\n",
    "        prod_to_category[product_id] = category_id\n",
    "    \n",
    "q = mp.Queue(maxsize=NCORE)\n",
    "iolock = mp.Lock()\n",
    "pool = mp.Pool(NCORE, initializer=process, initargs=(q, iolock))\n",
    "\n",
    "# process the file\n",
    "start_time = time()\n",
    "\n",
    "data = bson.decode_file_iter(open('/home/nighturs/Media/share/datasets/kaggle-cdiscount/train.bson', 'rb'))\n",
    "for c, d in enumerate(data):  \n",
    "    q.put(d)  # blocks until q below its max size\n",
    "    if c % 100000 == 99999:\n",
    "        print('{} - Read {} entries'.format(math.floor(time() - start_time), c + 1))\n",
    "        \n",
    "# tell workers we're done\n",
    "\n",
    "for _ in range(NCORE):  \n",
    "    q.put(None)\n",
    "pool.close()\n",
    "pool.join()\n",
    "\n",
    "# convert back to normal dictionary\n",
    "prod_to_category = dict(prod_to_category)\n",
    "prod_to_category = pd.DataFrame.from_dict(prod_to_category, orient='index')\n",
    "prod_to_category.index.name = '_id'\n",
    "prod_to_category.rename(columns={0: 'category_id'}, inplace=True)"
   ]
  },
  {
   "cell_type": "code",
   "execution_count": 65,
   "metadata": {},
   "outputs": [],
   "source": [
    "prod_to_category.to_csv('../data/interim/prod_to_category.csv')"
   ]
  },
  {
   "cell_type": "code",
   "execution_count": 2,
   "metadata": {},
   "outputs": [
    {
     "name": "stderr",
     "output_type": "stream",
     "text": [
      "/home/nighturs/.local/share/virtualenvs/kaggle-cdiscount-image-classification-nx22QNl0/lib/python3.6/site-packages/numpy/lib/arraysetops.py:463: FutureWarning: elementwise comparison failed; returning scalar instead, but in the future will perform elementwise comparison\n",
      "  mask |= (ar1 == a)\n"
     ]
    }
   ],
   "source": [
    "prod_to_category = pd.read_csv('../data/interim/prod_to_category.csv', index_col='_id')"
   ]
  },
  {
   "cell_type": "markdown",
   "metadata": {},
   "source": [
    "## Create sample"
   ]
  },
  {
   "cell_type": "code",
   "execution_count": 3,
   "metadata": {},
   "outputs": [
    {
     "data": {
      "text/plain": [
       "category_id\n",
       "1000018296    79640\n",
       "1000011423    71116\n",
       "1000011427    69784\n",
       "1000014202    65642\n",
       "1000015309    65435\n",
       "dtype: int64"
      ]
     },
     "execution_count": 3,
     "metadata": {},
     "output_type": "execute_result"
    }
   ],
   "source": [
    "category_stats = prod_to_category.groupby(by='category_id').size()\n",
    "category_stats.sort_values(ascending=False, inplace=True)\n",
    "category_stats.head()"
   ]
  },
  {
   "cell_type": "code",
   "execution_count": 4,
   "metadata": {},
   "outputs": [
    {
     "data": {
      "text/plain": [
       "category_id\n",
       "1000014934    347\n",
       "1000016744    346\n",
       "1000014024    346\n",
       "1000011405    346\n",
       "1000017790    345\n",
       "dtype: int64"
      ]
     },
     "execution_count": 4,
     "metadata": {},
     "output_type": "execute_result"
    }
   ],
   "source": [
    "category_stats[:2000].tail()"
   ]
  },
  {
   "cell_type": "code",
   "execution_count": 5,
   "metadata": {},
   "outputs": [
    {
     "data": {
      "text/plain": [
       "array([1000018296, 1000011423, 1000011427, ..., 1000014024, 1000011405,\n",
       "       1000017790])"
      ]
     },
     "execution_count": 5,
     "metadata": {},
     "output_type": "execute_result"
    }
   ],
   "source": [
    "categories  = category_stats[:2000].index.values\n",
    "categories_set = set(categories)\n",
    "categories"
   ]
  },
  {
   "cell_type": "code",
   "execution_count": 12,
   "metadata": {},
   "outputs": [],
   "source": [
    "np.random.seed(123)\n",
    "\n",
    "sample = np.array([], dtype=np.int64)\n",
    "for category, prods in prod_to_category.groupby(by='category_id'):\n",
    "    if not category in categories_set:\n",
    "        continue\n",
    "    sample = np.concatenate((sample, np.random.choice(prods.index.values, \n",
    "                                            size=(100 if prods.shape[0] >= 100 else prods.shape[0]), \n",
    "                                            replace=False)))"
   ]
  },
  {
   "cell_type": "code",
   "execution_count": 19,
   "metadata": {},
   "outputs": [
    {
     "data": {
      "text/plain": [
       "200000"
      ]
     },
     "execution_count": 19,
     "metadata": {},
     "output_type": "execute_result"
    }
   ],
   "source": [
    "sample_set = set(sample)\n",
    "sample.size"
   ]
  },
  {
   "cell_type": "code",
   "execution_count": 18,
   "metadata": {},
   "outputs": [
    {
     "data": {
      "text/plain": [
       "(160000, 40000)"
      ]
     },
     "execution_count": 18,
     "metadata": {},
     "output_type": "execute_result"
    }
   ],
   "source": [
    "idx = np.arange(sample.size)\n",
    "np.random.seed(123)\n",
    "np.random.shuffle(idx)\n",
    "cut = int(sample.size * 0.8)\n",
    "sample_train = sample[idx[:cut]]\n",
    "sample_test = sample[idx[cut:]]\n",
    "len(sample_train), len(sample_test)"
   ]
  },
  {
   "cell_type": "code",
   "execution_count": 21,
   "metadata": {},
   "outputs": [
    {
     "name": "stdout",
     "output_type": "stream",
     "text": [
      "8 - Read 100000 entries\n",
      "18 - Read 200000 entries\n",
      "29 - Read 300000 entries\n",
      "39 - Read 400000 entries\n",
      "50 - Read 500000 entries\n",
      "61 - Read 600000 entries\n",
      "72 - Read 700000 entries\n",
      "84 - Read 800000 entries\n",
      "95 - Read 900000 entries\n",
      "107 - Read 1000000 entries\n",
      "119 - Read 1100000 entries\n",
      "131 - Read 1200000 entries\n",
      "143 - Read 1300000 entries\n",
      "154 - Read 1400000 entries\n",
      "167 - Read 1500000 entries\n",
      "179 - Read 1600000 entries\n",
      "191 - Read 1700000 entries\n",
      "203 - Read 1800000 entries\n",
      "215 - Read 1900000 entries\n",
      "226 - Read 2000000 entries\n",
      "237 - Read 2100000 entries\n",
      "249 - Read 2200000 entries\n",
      "260 - Read 2300000 entries\n",
      "271 - Read 2400000 entries\n",
      "282 - Read 2500000 entries\n",
      "294 - Read 2600000 entries\n",
      "305 - Read 2700000 entries\n",
      "317 - Read 2800000 entries\n",
      "328 - Read 2900000 entries\n",
      "339 - Read 3000000 entries\n",
      "347 - Read 3100000 entries\n",
      "355 - Read 3200000 entries\n",
      "364 - Read 3300000 entries\n",
      "372 - Read 3400000 entries\n",
      "380 - Read 3500000 entries\n",
      "389 - Read 3600000 entries\n",
      "397 - Read 3700000 entries\n",
      "405 - Read 3800000 entries\n",
      "414 - Read 3900000 entries\n",
      "422 - Read 4000000 entries\n",
      "430 - Read 4100000 entries\n",
      "439 - Read 4200000 entries\n",
      "447 - Read 4300000 entries\n",
      "456 - Read 4400000 entries\n",
      "464 - Read 4500000 entries\n",
      "473 - Read 4600000 entries\n",
      "481 - Read 4700000 entries\n",
      "490 - Read 4800000 entries\n",
      "498 - Read 4900000 entries\n",
      "507 - Read 5000000 entries\n",
      "515 - Read 5100000 entries\n",
      "524 - Read 5200000 entries\n",
      "532 - Read 5300000 entries\n",
      "541 - Read 5400000 entries\n",
      "549 - Read 5500000 entries\n",
      "558 - Read 5600000 entries\n",
      "566 - Read 5700000 entries\n",
      "575 - Read 5800000 entries\n",
      "584 - Read 5900000 entries\n",
      "592 - Read 6000000 entries\n",
      "601 - Read 6100000 entries\n",
      "609 - Read 6200000 entries\n",
      "618 - Read 6300000 entries\n",
      "626 - Read 6400000 entries\n",
      "635 - Read 6500000 entries\n",
      "644 - Read 6600000 entries\n",
      "652 - Read 6700000 entries\n",
      "661 - Read 6800000 entries\n",
      "670 - Read 6900000 entries\n",
      "678 - Read 7000000 entries\n"
     ]
    }
   ],
   "source": [
    "NCORE =  4\n",
    "\n",
    "def process(q, iolock):\n",
    "    while True:\n",
    "        d = q.get()\n",
    "        if d is None:\n",
    "            break\n",
    "        product_id = d['_id']\n",
    "        if product_id in sample_set:\n",
    "            picture = Image.open(io.BytesIO(d['imgs'][0]['picture']))\n",
    "            picture.save('../data/interim/big_sample/imgs/{}.jpg'.format(product_id))\n",
    "        \n",
    "    \n",
    "q = mp.Queue(maxsize=NCORE)\n",
    "iolock = mp.Lock()\n",
    "pool = mp.Pool(NCORE, initializer=process, initargs=(q, iolock))\n",
    "\n",
    "# process the file\n",
    "start_time = time()\n",
    "\n",
    "data = bson.decode_file_iter(open('/home/nighturs/Media/share/datasets/kaggle-cdiscount/train.bson', 'rb'))\n",
    "for c, d in enumerate(data):  \n",
    "    q.put(d)  # blocks until q below its max size\n",
    "    if c % 100000 == 99999:\n",
    "        print('{} - Read {} entries'.format(math.floor(time() - start_time), c + 1))\n",
    "        \n",
    "# tell workers we're done\n",
    "\n",
    "for _ in range(NCORE):  \n",
    "    q.put(None)\n",
    "pool.close()\n",
    "pool.join()"
   ]
  },
  {
   "cell_type": "markdown",
   "metadata": {},
   "source": [
    "# Precompute VGG16 Conv layers for sample images"
   ]
  },
  {
   "cell_type": "code",
   "execution_count": 2,
   "metadata": {},
   "outputs": [],
   "source": [
    "vgg_model = VGG16(include_top=False, input_shape=(3, 180, 180))"
   ]
  },
  {
   "cell_type": "code",
   "execution_count": 2,
   "metadata": {},
   "outputs": [],
   "source": [
    "def save_array(fname, arr): \n",
    "    c=bcolz.carray(arr, rootdir=fname, mode='w')\n",
    "    c.flush()\n",
    "    \n",
    "def load_array(fname): \n",
    "    return bcolz.open(fname)[:]\n",
    "\n",
    "backup = []\n",
    "def save_vgg16_vecs(vec_fname, img_name_fname, folder):\n",
    "    gen = ImageDataGenerator(preprocessing_function=preprocess_input)\n",
    "    batches = gen.flow_from_directory(folder, \n",
    "                                      target_size=(180, 180), \n",
    "                                      batch_size=220, \n",
    "                                      class_mode=None,\n",
    "                                      shuffle=False)\n",
    "    x = AveragePooling2D()(vgg_model.output)\n",
    "    model = Model(vgg_model.input, x)\n",
    "    vecs = model.predict_generator(batches, steps=(batches.samples + batches.batch_size) \n",
    "                                          // batches.batch_size, verbose=1)\n",
    "    backup.append(vecs)\n",
    "    save_array(vec_fname, vecs)\n",
    "    save_array(img_name_fname, batches.filenames)\n",
    "    \n",
    "def load_vgg16_vecs(vec_fname, img_name_fname):\n",
    "    return load_array(img_name_fname), load_array(vec_fname)"
   ]
  },
  {
   "cell_type": "code",
   "execution_count": 4,
   "metadata": {},
   "outputs": [
    {
     "name": "stdout",
     "output_type": "stream",
     "text": [
      "Found 200000 images belonging to 1 classes.\n",
      "910/910 [==============================] - 3915s  \n"
     ]
    }
   ],
   "source": [
    "save_vgg16_vecs('../data/interim/big_sample_vgg16_vecs', \n",
    "                '../data/interim/big_sample_vgg16_img_name', \n",
    "                '../data/interim/big_sample')"
   ]
  },
  {
   "cell_type": "markdown",
   "metadata": {},
   "source": [
    "# ResNet50"
   ]
  },
  {
   "cell_type": "code",
   "execution_count": 3,
   "metadata": {},
   "outputs": [],
   "source": [
    "resnet_model = ResNet50(include_top=False, input_shape=(3, 197, 197))"
   ]
  },
  {
   "cell_type": "code",
   "execution_count": 4,
   "metadata": {},
   "outputs": [],
   "source": [
    "backup = []\n",
    "def save_resnet50_vecs(vec_fname, img_name_fname, folder):\n",
    "    gen = ImageDataGenerator(preprocessing_function=keras.applications.resnet50.preprocess_input)\n",
    "    batches = gen.flow_from_directory(folder, \n",
    "                                      target_size=(197, 197), \n",
    "                                      batch_size=220, \n",
    "                                      class_mode=None,\n",
    "                                      shuffle=False)\n",
    "    vecs = resnet_model.predict_generator(batches, steps=(batches.samples + batches.batch_size) \n",
    "                                          // batches.batch_size, verbose=1)\n",
    "    backup.append(vecs)\n",
    "    save_array(vec_fname, vecs)\n",
    "    save_array(img_name_fname, batches.filenames)\n",
    "    \n",
    "def load_resnet50_vecs(vec_fname, img_name_fname):\n",
    "    return load_array(img_name_fname), load_array(vec_fname)"
   ]
  },
  {
   "cell_type": "code",
   "execution_count": 5,
   "metadata": {},
   "outputs": [
    {
     "name": "stdout",
     "output_type": "stream",
     "text": [
      "Found 200000 images belonging to 1 classes.\n",
      "910/910 [==============================] - 2752s  \n"
     ]
    }
   ],
   "source": [
    "save_resnet50_vecs('../data/interim/big_sample_resnet50_vecs', \n",
    "                   '../data/interim/big_sample_resnet50_img_name', \n",
    "                   '../data/interim/big_sample')"
   ]
  }
 ],
 "metadata": {
  "kernelspec": {
   "display_name": "Python 3",
   "language": "python",
   "name": "python3"
  },
  "language_info": {
   "codemirror_mode": {
    "name": "ipython",
    "version": 3
   },
   "file_extension": ".py",
   "mimetype": "text/x-python",
   "name": "python",
   "nbconvert_exporter": "python",
   "pygments_lexer": "ipython3",
   "version": "3.6.2"
  }
 },
 "nbformat": 4,
 "nbformat_minor": 2
}
